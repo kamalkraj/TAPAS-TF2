{
 "cells": [
  {
   "cell_type": "code",
   "execution_count": 1,
   "metadata": {},
   "outputs": [],
   "source": [
    "from classifier import Model\n",
    "import cProfile"
   ]
  },
  {
   "cell_type": "code",
   "execution_count": 2,
   "metadata": {},
   "outputs": [],
   "source": [
    "model = Model(\"tapas_sqa_masklm_base_reset_tf2/\",\"SQA\")"
   ]
  },
  {
   "cell_type": "code",
   "execution_count": 3,
   "metadata": {},
   "outputs": [],
   "source": [
    "table = [['Pos', 'No', 'Driver', 'Team', 'Laps', 'Time/Retired', 'Grid', 'Points'],\n",
    "         ['1', '32', 'Patrick Carpentier', \"Team Player's\", '87', '1:48:11.023', '1', '22'],\n",
    "         ['2', '1', 'Bruno Junqueira', 'Newman/Haas Racing', '87', '+0.8 secs', '2', '17'],\n",
    "         ['3', '3', 'Paul Tracy', \"Team Player's\", '87', '+28.6 secs', '3', '14'],\n",
    "         ['4', '9', 'Michel Jourdain, Jr.', 'Team Rahal', '87', '+40.8 secs', '13', '12'],\n",
    "         ['5', '34', 'Mario Haberfeld', 'Mi-Jack Conquest Racing', '87', '+42.1 secs', '6', '10'],\n",
    "         ['6', '20', 'Oriol Servia', 'Patrick Racing', '87', '+1:00.2', '10', '8'],\n",
    "         ['7', '51', 'Adrian Fernandez', 'Fernandez Racing', '87', '+1:01.4', '5', '6'],\n",
    "         ['8', '12', 'Jimmy Vasser', 'American Spirit Team Johansson', '87', '+1:01.8', '8', '5'],\n",
    "         ['9', '7', 'Tiago Monteiro', 'Fittipaldi-Dingman Racing', '86', '+ 1 Lap', '15', '4'],\n",
    "         ['10', '55', 'Mario Dominguez', 'Herdez Competition', '86', '+ 1 Lap', '11', '3'],\n",
    "         ['11', '27', 'Bryan Herta', 'PK Racing', '86', '+ 1 Lap', '12', '2'],\n",
    "         ['12', '31', 'Ryan Hunter-Reay', 'American Spirit Team Johansson', '86', '+ 1 Lap', '17', '1'],\n",
    "         ['13', '19', 'Joel Camathias', 'Dale Coyne Racing', '85', '+ 2 Laps', '18', '0'],\n",
    "         ['14', '33', 'Alex Tagliani', 'Rocketsports Racing', '85', '+ 2 Laps', '14', '0'],\n",
    "         ['15', '4', 'Roberto Moreno', 'Herdez Competition', '85', '+ 2 Laps', '9', '0'],\n",
    "         ['16', '11', 'Geoff Boss', 'Dale Coyne Racing', '83', 'Mechanical', '19', '0'],\n",
    "         ['17', '2', 'Sebastien Bourdais', 'Newman/Haas Racing', '77', 'Mechanical', '4', '0'],\n",
    "         ['18', '15', 'Darren Manning', 'Walker Racing', '12', 'Mechanical', '7', '0'],\n",
    "         ['19', '5', 'Rodolfo Lavin', 'Walker Racing', '10', 'Mechanical', '16', '0']]\n",
    "queries = [\"who scored 10 points?\",\"what is the team name?\"]"
   ]
  },
  {
   "cell_type": "code",
   "execution_count": 4,
   "metadata": {},
   "outputs": [
    {
     "data": {
      "text/plain": [
       "[{'query': 'who scored 10 points?', 'answer': 'Mario Haberfeld'},\n",
       " {'query': 'what is the team name?', 'answer': 'Mi-Jack Conquest Racing'}]"
      ]
     },
     "execution_count": 4,
     "metadata": {},
     "output_type": "execute_result"
    }
   ],
   "source": [
    "model(table,queries)"
   ]
  },
  {
   "cell_type": "code",
   "execution_count": null,
   "metadata": {},
   "outputs": [],
   "source": []
  },
  {
   "cell_type": "code",
   "execution_count": null,
   "metadata": {},
   "outputs": [],
   "source": []
  },
  {
   "cell_type": "code",
   "execution_count": null,
   "metadata": {},
   "outputs": [],
   "source": []
  },
  {
   "cell_type": "code",
   "execution_count": null,
   "metadata": {},
   "outputs": [],
   "source": []
  }
 ],
 "metadata": {
  "kernelspec": {
   "display_name": "Python 3",
   "language": "python",
   "name": "python3"
  },
  "language_info": {
   "codemirror_mode": {
    "name": "ipython",
    "version": 3
   },
   "file_extension": ".py",
   "mimetype": "text/x-python",
   "name": "python",
   "nbconvert_exporter": "python",
   "pygments_lexer": "ipython3",
   "version": "3.7.3"
  }
 },
 "nbformat": 4,
 "nbformat_minor": 4
}
